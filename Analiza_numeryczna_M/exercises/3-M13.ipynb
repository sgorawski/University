{
 "cells": [
  {
   "cell_type": "markdown",
   "metadata": {},
   "source": [
    "# M13.1\n",
    "---\n",
    "LU matrix factorization on the example:\n",
    "\n",
    "\\begin{equation}\n",
    "A = \\begin{bmatrix}\n",
    "7 & 1 & 2 & 4 \\\\\n",
    "35 & 10 & 13 & 22 \\\\\n",
    "21 & 13 & 15 & 18 \\\\\n",
    "63 & 49 & 63 & 68 \\\\\n",
    "\\end{bmatrix}\n",
    "\\end{equation}"
   ]
  },
  {
   "cell_type": "markdown",
   "metadata": {},
   "source": [
    "## Doolittle method"
   ]
  },
  {
   "cell_type": "code",
   "execution_count": 1,
   "metadata": {},
   "outputs": [],
   "source": [
    "function LU_factorization(A::Matrix)\n",
    "    @assert size(A)[1] == size(A)[2]\n",
    "    L = eye(A)\n",
    "    U = zeros(A)\n",
    "    n = size(A)[1]\n",
    "    for i = 1:n\n",
    "        for j = i:n\n",
    "            U[i, j] = A[i, j] - reduce(+, 0, L[i, k] * U[k, j] for k = 1:i-1)\n",
    "        end\n",
    "        for j = i+1:n\n",
    "            L[j, i] = 1/U[i, i] * (A[j, i] - reduce(+, 0, L[j, k] * U[k, i] for k = 1:i-1))\n",
    "        end\n",
    "    end\n",
    "    L, U\n",
    "end;"
   ]
  },
  {
   "cell_type": "markdown",
   "metadata": {},
   "source": [
    "## Test"
   ]
  },
  {
   "cell_type": "code",
   "execution_count": 2,
   "metadata": {},
   "outputs": [
    {
     "data": {
      "text/plain": [
       "4×4 Array{Int64,2}:\n",
       " 1  0  0  0\n",
       " 5  1  0  0\n",
       " 3  2  1  0\n",
       " 9  8  7  1"
      ]
     },
     "metadata": {},
     "output_type": "display_data"
    },
    {
     "data": {
      "text/plain": [
       "4×4 Array{Int64,2}:\n",
       " 7  1  2  4\n",
       " 0  5  3  2\n",
       " 0  0  3  2\n",
       " 0  0  0  2"
      ]
     },
     "metadata": {},
     "output_type": "display_data"
    }
   ],
   "source": [
    "A = [7 1 2 4; 35 10 13 22; 21 13 15 18; 63 49 63 68]\n",
    "L, U = LU_factorization(A)\n",
    "display(L)\n",
    "display(U)\n",
    "@assert L * U == A"
   ]
  }
 ],
 "metadata": {
  "kernelspec": {
   "display_name": "Julia 0.6.0",
   "language": "julia",
   "name": "julia-0.6"
  },
  "language_info": {
   "file_extension": ".jl",
   "mimetype": "application/julia",
   "name": "julia",
   "version": "0.6.0"
  }
 },
 "nbformat": 4,
 "nbformat_minor": 2
}