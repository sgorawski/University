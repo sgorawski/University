{
 "cells": [
  {
   "cell_type": "markdown",
   "metadata": {},
   "source": [
    "# M11.5\n",
    "---\n",
    "Composite Newton-Cotes formulas: comparison of the trapezoidal rule and the Simpson rule in regard to computing\n",
    "$\\int_{0}^{\\pi} \\sin x dx$."
   ]
  },
  {
   "cell_type": "markdown",
   "metadata": {},
   "source": [
    "## Trapezoidal rule"
   ]
  },
  {
   "cell_type": "code",
   "execution_count": 1,
   "metadata": {
    "collapsed": false
   },
   "outputs": [],
   "source": [
    "function T(f, n, a, b)\n",
    "    @assert n >= 2\n",
    "    h = (b - a) / n\n",
    "    nodes = linspace(a, b, n+1)\n",
    "    h * (sum(f.(nodes)) - 0.5f(a) - 0.5f(b))\n",
    "end;"
   ]
  },
  {
   "cell_type": "markdown",
   "metadata": {},
   "source": [
    "## Simpson rule"
   ]
  },
  {
   "cell_type": "code",
   "execution_count": 2,
   "metadata": {
    "collapsed": true
   },
   "outputs": [],
   "source": [
    "S(f, n, a, b) = 1/3 * (4T(f, 2n, a, b) - T(f, n, a, b));"
   ]
  },
  {
   "cell_type": "markdown",
   "metadata": {},
   "source": [
    "## Tests"
   ]
  },
  {
   "cell_type": "code",
   "execution_count": 3,
   "metadata": {
    "collapsed": false
   },
   "outputs": [
    {
     "name": "stdout",
     "output_type": "stream",
     "text": [
      "for S rule n = 8\n",
      "for T rule n = 287\n"
     ]
    }
   ],
   "source": [
    "for Q in [S, T]\n",
    "    n = 1; res = 0\n",
    "    while abs(res - 2) > 2 * 10.0^-5\n",
    "        n += 1\n",
    "        res = Q(sin, n, 0, pi)\n",
    "    end\n",
    "    @printf \"for %s rule n = %d\\n\" Q n\n",
    "end"
   ]
  }
 ],
 "metadata": {
  "kernelspec": {
   "display_name": "Julia 0.6.0",
   "language": "julia",
   "name": "julia-0.6"
  },
  "language_info": {
   "file_extension": ".jl",
   "mimetype": "application/julia",
   "name": "julia",
   "version": "0.6.0"
  }
 },
 "nbformat": 4,
 "nbformat_minor": 2
}