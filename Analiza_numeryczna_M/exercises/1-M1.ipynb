{
 "cells": [
  {
   "cell_type": "markdown",
   "metadata": {},
   "source": [
    "# M1.3\n",
    "---\n",
    "Comparison of straightforward and Horner methods of computing polynomial values in regard to precision. Tested on different floating-point types."
   ]
  },
  {
   "cell_type": "code",
   "execution_count": 1,
   "metadata": {
    "collapsed": false
   },
   "outputs": [
    {
     "name": "stdout",
     "output_type": "stream",
     "text": [
      "w1 - Float16 - 0.003949\n",
      "w1 - Float32 - 0.000001\n",
      "w1 - Float64 - 0.000000\n",
      "w2 - Float16 - 0.000213\n",
      "w2 - Float32 - 0.000000\n",
      "w2 - Float64 - 0.000000\n"
     ]
    }
   ],
   "source": [
    "w1(x) = x^3 - 6 * x^2 + 3 * x - 0.149\n",
    "w2(x) = ((x - 6) * x + 3) * x - 0.149\n",
    "\n",
    "function approx_error(fun, x, y0, Type)\n",
    "    y = fun(Type(x))\n",
    "    #relative error\n",
    "    return abs((y - y0) / y0)\n",
    "end\n",
    "\n",
    "for fun in [w1, w2]\n",
    "    for Type in [Float16, Float32, Float64]\n",
    "        ϵ = approx_error(fun, 4.71, -14.636489, Type)\n",
    "        @printf \"%s - %s - %f\\n\" fun Type ϵ\n",
    "    end\n",
    "end"
   ]
  }
 ],
 "metadata": {
  "kernelspec": {
   "display_name": "Julia 0.6.0",
   "language": "julia",
   "name": "julia-0.6"
  },
  "language_info": {
   "file_extension": ".jl",
   "mimetype": "application/julia",
   "name": "julia",
   "version": "0.6.0"
  }
 },
 "nbformat": 4,
 "nbformat_minor": 2
}