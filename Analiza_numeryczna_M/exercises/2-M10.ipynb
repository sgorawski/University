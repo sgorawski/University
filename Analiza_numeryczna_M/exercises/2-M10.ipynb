{
 "cells": [
  {
   "cell_type": "code",
   "execution_count": 1,
   "metadata": {
    "collapsed": false
   },
   "outputs": [],
   "source": [
    "using Polynomials\n",
    "using QuadGK;"
   ]
  },
  {
   "cell_type": "markdown",
   "metadata": {},
   "source": [
    "# M10.8\n",
    "---\n",
    "Comparison of interpolation and approximation in regard to the Runge function:\n",
    "\n",
    "$$f(x)=\\frac{1}{25x^2+1} \\qquad x\\in[-1, 1]$$"
   ]
  },
  {
   "cell_type": "markdown",
   "metadata": {},
   "source": [
    "## Interpolation"
   ]
  },
  {
   "cell_type": "code",
   "execution_count": 2,
   "metadata": {
    "collapsed": true
   },
   "outputs": [],
   "source": [
    "function get_newton_coeffs(nodes, f_values)\n",
    "    coeffs = Float64[]\n",
    "    len = length(nodes)\n",
    "    \n",
    "    # First iteration\n",
    "    diff_quots = collect(f_values)\n",
    "    push!(coeffs, diff_quots[1])\n",
    "    \n",
    "    # Next iterations\n",
    "    for j = 1:len-1\n",
    "        for i = 1:len-j\n",
    "            diff_quots[i] = ((diff_quots[i] - diff_quots[i + 1])\n",
    "                             / (nodes[i] - nodes[i + j]))\n",
    "        end\n",
    "        push!(coeffs, diff_quots[1])\n",
    "    end\n",
    "    coeffs\n",
    "end\n",
    "\n",
    "\n",
    "function interpolate(f, nodes)::Poly\n",
    "    coeffs = get_newton_coeffs(nodes, f.(nodes))\n",
    "    \n",
    "    # First iteration\n",
    "    nodal_poly = Poly([1])\n",
    "    inter_poly = Poly([coeffs[1]])\n",
    "    \n",
    "    # Next iterations\n",
    "    for i = 2:length(coeffs)\n",
    "        nodal_poly *= Poly([-nodes[i - 1], 1])\n",
    "        inter_poly += coeffs[i] * nodal_poly\n",
    "    end\n",
    "    inter_poly\n",
    "end;"
   ]
  },
  {
   "cell_type": "code",
   "execution_count": 3,
   "metadata": {
    "collapsed": true
   },
   "outputs": [],
   "source": [
    "function get_equidistant_nodes(nodes_number)\n",
    "    linspace(-1, 1, nodes_number)\n",
    "end\n",
    "\n",
    "\n",
    "function get_chebyshev_zeros_nodes(nodes_number)\n",
    "    [cos(pi * (2*k + 1) / (2*nodes_number)) for k = nodes_number-1:-1:0]\n",
    "end\n",
    "\n",
    "\n",
    "function get_chebyshev_extremes_nodes(nodes_number)\n",
    "    [cos(pi * k / (nodes_number-1)) for k = nodes_number-1:-1:0]\n",
    "end;"
   ]
  },
  {
   "cell_type": "markdown",
   "metadata": {},
   "source": [
    "## Approximation"
   ]
  },
  {
   "cell_type": "code",
   "execution_count": 4,
   "metadata": {
    "collapsed": false
   },
   "outputs": [],
   "source": [
    "function approximate_legendre(f, deg)\n",
    "    optimal_poly = Poly([0])\n",
    "    P = Poly[]\n",
    "    push!(P, Poly([1]))\n",
    "    push!(P, Poly([0, 1]))\n",
    "    \n",
    "    for i = 0:deg\n",
    "        if i >= length(P)\n",
    "            push!(P, Poly([0, (2i - 1) / i])*P[end] - ((i - 1) / i)*P[end-1])\n",
    "        end\n",
    "        a = (2i + 1) / 2 * quadgk(x -> f(x) * polyval(P[i+1], x), -1,  1)[1]\n",
    "        optimal_poly += a*P[i+1]\n",
    "    end\n",
    "    optimal_poly\n",
    "end;"
   ]
  },
  {
   "cell_type": "code",
   "execution_count": 5,
   "metadata": {
    "collapsed": false
   },
   "outputs": [],
   "source": [
    "function approximate_chebyshev(f, deg)\n",
    "    optimal_poly = Poly([0])\n",
    "    T = Poly[]\n",
    "    push!(T, Poly([1]))\n",
    "    push!(T, Poly([0, 1]))\n",
    "    \n",
    "    p(x) = 1 / sqrt(1 - x^2)\n",
    "    for i = 0:deg\n",
    "        if i >= length(T)\n",
    "            push!(T, Poly([0, 2])*T[end] - T[end-1])\n",
    "        end\n",
    "        a = 2 / pi * quadgk(x -> p(x) * f(x) * polyval(T[i+1], x), -0.99999, 0.99999)[1]\n",
    "        if i == 0 a /= 2 end\n",
    "        optimal_poly += a*T[i+1]\n",
    "    end\n",
    "    optimal_poly\n",
    "end;"
   ]
  },
  {
   "cell_type": "markdown",
   "metadata": {},
   "source": [
    "## Tests"
   ]
  },
  {
   "cell_type": "code",
   "execution_count": 7,
   "metadata": {
    "collapsed": false
   },
   "outputs": [
    {
     "name": "stdout",
     "output_type": "stream",
     "text": [
      "        Equidistant nodes - 0.3002977778\n",
      "          Chebyshev zeros - 0.2691781334\n",
      "       Chebyshev extremes - 0.3190950441\n",
      "   Legendre approximation - 0.1495833235\n",
      "  Chebyshev approximation - 0.1641203605\n"
     ]
    }
   ],
   "source": [
    "uniform_norm(f, poly) = maximum(map(x -> abs(f(x) - polyval(poly, x)), linspace(-1, 1, 10000)))\n",
    "f(x) = 1 / (25*x^2 + 1)\n",
    "\n",
    "for (nodes_generator, nodes_name) in zip(\n",
    "        [get_equidistant_nodes, get_chebyshev_zeros_nodes, get_chebyshev_extremes_nodes],\n",
    "        [\"Equidistant nodes\", \"Chebyshev zeros\", \"Chebyshev extremes\"]\n",
    ")\n",
    "    nodes = nodes_generator(10)\n",
    "    inter_poly = interpolate(f, nodes)\n",
    "    @printf \"%25.25s - %.10f\\n\" nodes_name uniform_norm(f, inter_poly)\n",
    "end\n",
    "\n",
    "for (approximation_func, approximation_name) in zip(\n",
    "        [approximate_legendre, approximate_chebyshev],\n",
    "        [\"Legendre approximation\", \"Chebyshev approximation\"]\n",
    ")\n",
    "    optimal_poly = approximation_func(f, 9)\n",
    "    @printf \"%25.25s - %.10f\\n\" approximation_name uniform_norm(f, optimal_poly)\n",
    "end;"
   ]
  }
 ],
 "metadata": {
  "kernelspec": {
   "display_name": "Julia 0.6.0",
   "language": "julia",
   "name": "julia-0.6"
  },
  "language_info": {
   "file_extension": ".jl",
   "mimetype": "application/julia",
   "name": "julia",
   "version": "0.6.0"
  }
 },
 "nbformat": 4,
 "nbformat_minor": 2
}